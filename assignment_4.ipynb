{
 "cells": [
  {
   "cell_type": "code",
   "execution_count": null,
   "metadata": {},
   "outputs": [],
   "source": [
    "##task 1.2"
   ]
  },
  {
   "cell_type": "code",
   "execution_count": 47,
   "metadata": {},
   "outputs": [],
   "source": [
    "class triangle:\n",
    "    def __init__(self,len_side1,len_side2,len_side3):\n",
    "        self.len_side1=len_side1\n",
    "        self.len_side2=len_side2\n",
    "        self.len_side3=len_side3\n",
    "        \n",
    "class area(triangle):\n",
    "    def __init__(self,*args):\n",
    "        super(area,self).__init__(*args)\n",
    "    \n",
    "    def area_triangle(self):\n",
    "        s = (self.len_side1+self.len_side2+self.len_side3)/2\n",
    "        ar = (s*(s-self.len_side1)*(s-self.len_side2)*(s-self.len_side3)) ** 0.5\n",
    "        return ar\n",
    "        \n"
   ]
  },
  {
   "cell_type": "code",
   "execution_count": 54,
   "metadata": {},
   "outputs": [
    {
     "name": "stdout",
     "output_type": "stream",
     "text": [
      "72.30793524918272\n",
      "97.42785792574935\n"
     ]
    }
   ],
   "source": [
    "a = area(12,13,14)\n",
    "print(a.area_triangle())\n",
    "a1= area(15,15,15)\n",
    "print(a1.area_triangle())"
   ]
  },
  {
   "cell_type": "code",
   "execution_count": 55,
   "metadata": {},
   "outputs": [],
   "source": [
    "##Task 1.2\n"
   ]
  },
  {
   "cell_type": "code",
   "execution_count": 63,
   "metadata": {},
   "outputs": [],
   "source": [
    "class filter_words:\n",
    "    def __init__(self,lst,n):\n",
    "        self.lst=lst\n",
    "        self.n=n\n",
    "        w=[]\n",
    "        for i in self.lst:\n",
    "            if len(i) > n:\n",
    "                w.append(i)\n",
    "        print(w)\n",
    "                \n",
    "            \n",
    "                "
   ]
  },
  {
   "cell_type": "code",
   "execution_count": 65,
   "metadata": {},
   "outputs": [
    {
     "name": "stdout",
     "output_type": "stream",
     "text": [
      "['abcd', 'pqrst']\n"
     ]
    }
   ],
   "source": [
    "lst = ['abc','abcd','pqr','pqrst']\n",
    "n = 3\n",
    "word_list = filter_words(lst,n)\n"
   ]
  },
  {
   "cell_type": "code",
   "execution_count": null,
   "metadata": {},
   "outputs": [],
   "source": [
    "##task 2.1"
   ]
  },
  {
   "cell_type": "code",
   "execution_count": 71,
   "metadata": {},
   "outputs": [],
   "source": [
    "class map_str_length:\n",
    "    def __init__(self,lst):\n",
    "        self.lst=lst\n",
    "    \n",
    "    def map_length(self):\n",
    "        length = []\n",
    "        for l in lst:\n",
    "            length.append(len(l))\n",
    "        return length\n",
    "    \n",
    "            "
   ]
  },
  {
   "cell_type": "code",
   "execution_count": 72,
   "metadata": {},
   "outputs": [
    {
     "name": "stdout",
     "output_type": "stream",
     "text": [
      "[1, 5, 3, 32, 2]\n"
     ]
    }
   ],
   "source": [
    "lst = ['1','23456','avc','dfgjndtgiondognfkndfognitognriog','ab']\n",
    "m = map_str_length(lst)\n",
    "print(m.map_length())"
   ]
  },
  {
   "cell_type": "code",
   "execution_count": 77,
   "metadata": {},
   "outputs": [],
   "source": [
    "##task 2.2"
   ]
  },
  {
   "cell_type": "code",
   "execution_count": 74,
   "metadata": {},
   "outputs": [],
   "source": [
    "def vowel_check(str):\n",
    "    if str in ('a','e','i','o','u'):\n",
    "        print(True)\n",
    "    else:\n",
    "        print(False)"
   ]
  },
  {
   "cell_type": "code",
   "execution_count": 76,
   "metadata": {},
   "outputs": [
    {
     "name": "stdout",
     "output_type": "stream",
     "text": [
      "True\n",
      "False\n"
     ]
    }
   ],
   "source": [
    "vowel_check('a')\n",
    "vowel_check('b')"
   ]
  },
  {
   "cell_type": "code",
   "execution_count": null,
   "metadata": {},
   "outputs": [],
   "source": []
  }
 ],
 "metadata": {
  "kernelspec": {
   "display_name": "Python 3",
   "language": "python",
   "name": "python3"
  },
  "language_info": {
   "codemirror_mode": {
    "name": "ipython",
    "version": 3
   },
   "file_extension": ".py",
   "mimetype": "text/x-python",
   "name": "python",
   "nbconvert_exporter": "python",
   "pygments_lexer": "ipython3",
   "version": "3.7.4"
  }
 },
 "nbformat": 4,
 "nbformat_minor": 2
}
